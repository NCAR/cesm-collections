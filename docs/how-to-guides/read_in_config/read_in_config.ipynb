{
 "cells": [
  {
   "cell_type": "code",
   "execution_count": 1,
   "id": "a25df3e1-526f-4c41-b2da-b5fa20fa54d7",
   "metadata": {},
   "outputs": [],
   "source": [
    "import yaml\n",
    "\n",
    "with open(\"deploy.yaml\", mode=\"r\") as fptr:\n",
    "    deploy_config = yaml.safe_load(fptr)\n",
    "    \n",
    "with open(\"config-collections.yaml\", mode=\"r\") as fptr:\n",
    "    collections_config = yaml.safe_load(fptr)"
   ]
  },
  {
   "cell_type": "code",
   "execution_count": 6,
   "id": "b7621dec-0594-4f97-93ab-f1e7033e0d78",
   "metadata": {},
   "outputs": [],
   "source": [
    "models = collections_config['timeseries'].keys()"
   ]
  },
  {
   "cell_type": "code",
   "execution_count": 7,
   "id": "1be79ebe-96f2-49b7-9034-83152c792d91",
   "metadata": {},
   "outputs": [
    {
     "name": "stdout",
     "output_type": "stream",
     "text": [
      "{'ydim': 'yh', 'xdim': 'xh', 'horizontal_weights': 'area_t', 'land_sea_mask': 'wet', 'streams': ['mom6.hm', 'mom6.h_bgc_monthly_z'], 'variables': {'O2': {'units_in': None, 'units_out': 'mmol / meter^3', 'v_min': 1.0, 'v_max': 300.0, 'log_cbar': True}, 'PO4': {'units_in': None, 'units_out': None, 'v_min': 0.01, 'v_max': 2.2, 'log_cbar': True}, 'DpCO2': {'units_in': None, 'units_out': None, 'v_min': -75.0, 'v_max': 75.0, 'log_cbar': False}, 'SiO3': {'units_in': None, 'units_out': None, 'v_min': 0.0, 'v_max': 100.0, 'log_cbar': True}, 'NO3': {'units_in': None, 'units_out': None, 'v_min': 0.01, 'v_max': 35.0, 'log_cbar': True}}}\n",
      "{'ydim': 'nlat', 'xdim': 'nlon', 'horizontal_weights': 'TAREA', 'land_sea_mask': 'KMT', 'streams': {'pop.h': {'vertical_weights': 'z_t'}}, 'variables': {'O2': {'units_in': None, 'units_out': 'mmol / meter^3', 'v_min': 1.0, 'v_max': 300.0, 'log_cbar': True}, 'PO4': {'units_in': None, 'units_out': None, 'v_min': 0.01, 'v_max': 2.2, 'log_cbar': True}, 'DpCO2': {'units_in': None, 'units_out': None, 'v_min': -75.0, 'v_max': 75.0, 'log_cbar': False}, 'SiO3': {'units_in': None, 'units_out': None, 'v_min': 0.0, 'v_max': 100.0, 'log_cbar': True}, 'NO3': {'units_in': None, 'units_out': None, 'v_min': 0.01, 'v_max': 35.0, 'log_cbar': True}}}\n"
     ]
    }
   ],
   "source": [
    "for model in models:\n",
    "    print(collections_config['timeseries'][model])"
   ]
  },
  {
   "cell_type": "code",
   "execution_count": 5,
   "id": "c6f13023-53e2-410d-b246-8326f243b258",
   "metadata": {},
   "outputs": [],
   "source": [
    "case_paths = deploy_config['reference_case_path'] + deploy_config['compare_case_path']"
   ]
  },
  {
   "cell_type": "code",
   "execution_count": 6,
   "id": "e19fa311-0f93-40f3-976e-f4a3cf1d24df",
   "metadata": {},
   "outputs": [
    {
     "data": {
      "text/plain": [
       "['/glade/scratch/hannay/archive/b1850.f19_g17.validation_mct.004/ocn/hist',\n",
       " '/glade/scratch/hannay/archive/b1850.f19_g17.validation_mct.002/ocn/hist',\n",
       " '/glade/scratch/hannay/archive/b1850.f19_g17.validation_nuopc.004_copy2/ocn/hist']"
      ]
     },
     "execution_count": 6,
     "metadata": {},
     "output_type": "execute_result"
    }
   ],
   "source": [
    "case_paths"
   ]
  },
  {
   "cell_type": "code",
   "execution_count": 8,
   "id": "52e39ce9-813f-4c6f-8254-d18de2a27ebe",
   "metadata": {},
   "outputs": [],
   "source": [
    "import xarray as xr"
   ]
  },
  {
   "cell_type": "code",
   "execution_count": null,
   "id": "8c2c830b-ed14-4401-9b33-fe58b1f749d0",
   "metadata": {},
   "outputs": [],
   "source": []
  }
 ],
 "metadata": {
  "kernelspec": {
   "display_name": "Python 3 (ipykernel)",
   "language": "python",
   "name": "python3"
  },
  "language_info": {
   "codemirror_mode": {
    "name": "ipython",
    "version": 3
   },
   "file_extension": ".py",
   "mimetype": "text/x-python",
   "name": "python",
   "nbconvert_exporter": "python",
   "pygments_lexer": "ipython3",
   "version": "3.9.6"
  }
 },
 "nbformat": 4,
 "nbformat_minor": 5
}
